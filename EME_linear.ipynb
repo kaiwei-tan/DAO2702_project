{
 "cells": [
  {
   "cell_type": "code",
   "execution_count": 1,
   "metadata": {},
   "outputs": [],
   "source": [
    "%matplotlib inline\n",
    "import numpy as np\n",
    "import pandas as pd\n",
    "import statsmodels.formula.api as smf\n",
    "import matplotlib.pyplot as plt\n",
    "import seaborn as sns\n",
    "sns.set()"
   ]
  },
  {
   "cell_type": "code",
   "execution_count": 2,
   "metadata": {},
   "outputs": [
    {
     "data": {
      "text/plain": [
       "'c:\\\\Users\\\\TKW\\\\desktop'"
      ]
     },
     "execution_count": 2,
     "metadata": {},
     "output_type": "execute_result"
    }
   ],
   "source": [
    "import os\n",
    "os.chdir('c:\\\\Users\\\\TKW\\\\desktop')\n",
    "os.getcwd()"
   ]
  },
  {
   "cell_type": "code",
   "execution_count": 3,
   "metadata": {
    "scrolled": true
   },
   "outputs": [
    {
     "data": {
      "text/html": [
       "<div>\n",
       "<style scoped>\n",
       "    .dataframe tbody tr th:only-of-type {\n",
       "        vertical-align: middle;\n",
       "    }\n",
       "\n",
       "    .dataframe tbody tr th {\n",
       "        vertical-align: top;\n",
       "    }\n",
       "\n",
       "    .dataframe thead th {\n",
       "        text-align: right;\n",
       "    }\n",
       "</style>\n",
       "<table border=\"1\" class=\"dataframe\">\n",
       "  <thead>\n",
       "    <tr style=\"text-align: right;\">\n",
       "      <th></th>\n",
       "      <th>youtuber</th>\n",
       "      <th>influencer</th>\n",
       "      <th>subs</th>\n",
       "      <th>ave_views</th>\n",
       "      <th>total_videos</th>\n",
       "      <th>growth_views</th>\n",
       "      <th>growth_subs</th>\n",
       "      <th>frequency</th>\n",
       "      <th>duration</th>\n",
       "      <th>male</th>\n",
       "      <th>female</th>\n",
       "      <th>endorse</th>\n",
       "    </tr>\n",
       "  </thead>\n",
       "  <tbody>\n",
       "    <tr>\n",
       "      <th>0</th>\n",
       "      <td>Timothy DeLaGhetto</td>\n",
       "      <td>Y</td>\n",
       "      <td>3884157</td>\n",
       "      <td>366811</td>\n",
       "      <td>513</td>\n",
       "      <td>3801383</td>\n",
       "      <td>31477</td>\n",
       "      <td>3</td>\n",
       "      <td>725</td>\n",
       "      <td>63</td>\n",
       "      <td>37</td>\n",
       "      <td>5004</td>\n",
       "    </tr>\n",
       "    <tr>\n",
       "      <th>1</th>\n",
       "      <td>Tina Yong</td>\n",
       "      <td>Y</td>\n",
       "      <td>2551141</td>\n",
       "      <td>318073</td>\n",
       "      <td>308</td>\n",
       "      <td>668976</td>\n",
       "      <td>3360</td>\n",
       "      <td>3</td>\n",
       "      <td>994</td>\n",
       "      <td>9</td>\n",
       "      <td>91</td>\n",
       "      <td>4537</td>\n",
       "    </tr>\n",
       "    <tr>\n",
       "      <th>2</th>\n",
       "      <td>Fung Brothers</td>\n",
       "      <td>N</td>\n",
       "      <td>1932227</td>\n",
       "      <td>137917</td>\n",
       "      <td>697</td>\n",
       "      <td>4699691</td>\n",
       "      <td>15539</td>\n",
       "      <td>10</td>\n",
       "      <td>791</td>\n",
       "      <td>79</td>\n",
       "      <td>21</td>\n",
       "      <td>2897</td>\n",
       "    </tr>\n",
       "    <tr>\n",
       "      <th>3</th>\n",
       "      <td>LeendaDProductions</td>\n",
       "      <td>Y</td>\n",
       "      <td>1168971</td>\n",
       "      <td>513994</td>\n",
       "      <td>121</td>\n",
       "      <td>3886985</td>\n",
       "      <td>10675</td>\n",
       "      <td>2</td>\n",
       "      <td>282</td>\n",
       "      <td>47</td>\n",
       "      <td>53</td>\n",
       "      <td>6635</td>\n",
       "    </tr>\n",
       "    <tr>\n",
       "      <th>4</th>\n",
       "      <td>yourchonny</td>\n",
       "      <td>N</td>\n",
       "      <td>958043</td>\n",
       "      <td>228136</td>\n",
       "      <td>140</td>\n",
       "      <td>1052173</td>\n",
       "      <td>4054</td>\n",
       "      <td>1</td>\n",
       "      <td>479</td>\n",
       "      <td>73</td>\n",
       "      <td>27</td>\n",
       "      <td>5345</td>\n",
       "    </tr>\n",
       "    <tr>\n",
       "      <th>5</th>\n",
       "      <td>Yumi King</td>\n",
       "      <td>N</td>\n",
       "      <td>849160</td>\n",
       "      <td>9696</td>\n",
       "      <td>862</td>\n",
       "      <td>1240734</td>\n",
       "      <td>2415</td>\n",
       "      <td>7</td>\n",
       "      <td>437</td>\n",
       "      <td>7</td>\n",
       "      <td>93</td>\n",
       "      <td>170</td>\n",
       "    </tr>\n",
       "    <tr>\n",
       "      <th>6</th>\n",
       "      <td>FruityPoppin</td>\n",
       "      <td>Y</td>\n",
       "      <td>731102</td>\n",
       "      <td>577435</td>\n",
       "      <td>20</td>\n",
       "      <td>757206</td>\n",
       "      <td>12442</td>\n",
       "      <td>1</td>\n",
       "      <td>503</td>\n",
       "      <td>31</td>\n",
       "      <td>69</td>\n",
       "      <td>6039</td>\n",
       "    </tr>\n",
       "    <tr>\n",
       "      <th>7</th>\n",
       "      <td>Megan Bowen</td>\n",
       "      <td>Y</td>\n",
       "      <td>695539</td>\n",
       "      <td>150385</td>\n",
       "      <td>438</td>\n",
       "      <td>1136660</td>\n",
       "      <td>2218</td>\n",
       "      <td>3</td>\n",
       "      <td>731</td>\n",
       "      <td>10</td>\n",
       "      <td>90</td>\n",
       "      <td>1288</td>\n",
       "    </tr>\n",
       "    <tr>\n",
       "      <th>8</th>\n",
       "      <td>Stephanie Soo</td>\n",
       "      <td>Y</td>\n",
       "      <td>512490</td>\n",
       "      <td>157799</td>\n",
       "      <td>323</td>\n",
       "      <td>8886292</td>\n",
       "      <td>44830</td>\n",
       "      <td>24</td>\n",
       "      <td>2233</td>\n",
       "      <td>12</td>\n",
       "      <td>88</td>\n",
       "      <td>8089</td>\n",
       "    </tr>\n",
       "    <tr>\n",
       "      <th>9</th>\n",
       "      <td>Joe Jitsukawa</td>\n",
       "      <td>N</td>\n",
       "      <td>486712</td>\n",
       "      <td>54706</td>\n",
       "      <td>694</td>\n",
       "      <td>964615</td>\n",
       "      <td>2603</td>\n",
       "      <td>4</td>\n",
       "      <td>1517</td>\n",
       "      <td>68</td>\n",
       "      <td>32</td>\n",
       "      <td>778</td>\n",
       "    </tr>\n",
       "  </tbody>\n",
       "</table>\n",
       "</div>"
      ],
      "text/plain": [
       "             youtuber influencer     subs  ave_views  total_videos  \\\n",
       "0  Timothy DeLaGhetto          Y  3884157     366811           513   \n",
       "1           Tina Yong          Y  2551141     318073           308   \n",
       "2       Fung Brothers          N  1932227     137917           697   \n",
       "3  LeendaDProductions          Y  1168971     513994           121   \n",
       "4          yourchonny          N   958043     228136           140   \n",
       "5           Yumi King          N   849160       9696           862   \n",
       "6        FruityPoppin          Y   731102     577435            20   \n",
       "7         Megan Bowen          Y   695539     150385           438   \n",
       "8       Stephanie Soo          Y   512490     157799           323   \n",
       "9       Joe Jitsukawa          N   486712      54706           694   \n",
       "\n",
       "   growth_views  growth_subs  frequency  duration  male  female  endorse  \n",
       "0       3801383        31477          3       725    63      37     5004  \n",
       "1        668976         3360          3       994     9      91     4537  \n",
       "2       4699691        15539         10       791    79      21     2897  \n",
       "3       3886985        10675          2       282    47      53     6635  \n",
       "4       1052173         4054          1       479    73      27     5345  \n",
       "5       1240734         2415          7       437     7      93      170  \n",
       "6        757206        12442          1       503    31      69     6039  \n",
       "7       1136660         2218          3       731    10      90     1288  \n",
       "8       8886292        44830         24      2233    12      88     8089  \n",
       "9        964615         2603          4      1517    68      32      778  "
      ]
     },
     "execution_count": 3,
     "metadata": {},
     "output_type": "execute_result"
    }
   ],
   "source": [
    "data = pd.read_excel(\"youtuber1.xlsx\")\n",
    "data.head(10)"
   ]
  },
  {
   "cell_type": "markdown",
   "metadata": {},
   "source": [
    "- **youtuber**: name of the YouTube channel;\n",
    "- **influencer**: whether the person running the channel identifies as a social media \"influencer\" (Y/N);\n",
    "- **subs**: number of channel subcribers;\n",
    "- **ave_views**: average view count across all videos;\n",
    "- **total_videos**: total number of videos released;\n",
    "- **growth_subs**: number of subscribers to the channel gained in the past 30 days;\n",
    "- **frequency**: average number of videos put out per month (30 days);\n",
    "- **duration**: average video length (in seconds);\n",
    "- **male**: percentage of viewers that are male;\n",
    "- **female**: percentage of viewers that are female;\n",
    "- **endorse**: estimated endorsement cost. **dependent variable**.\n",
    "\n",
    "*All values are correct as of 18 Nov 2018.*\n",
    "\n",
    "Endorsement cost refers to the estimated cost for the insertion of promotional content for a marketer's product, for a significant proportion of a video (at least 30 seconds). In our context, this refers to the estimated cost required for a YouTube channel to promote our website in their videos."
   ]
  },
  {
   "cell_type": "markdown",
   "metadata": {},
   "source": [
    "## Linear Model\n",
    "We assume that the dependent variable is linearly related with all the independent variables as mentioned above.\n",
    "\n",
    "We run a linear regression, with *endorse* as the dependent variable, and use **backward elimination** to simplify the model."
   ]
  },
  {
   "cell_type": "code",
   "execution_count": 4,
   "metadata": {},
   "outputs": [
    {
     "data": {
      "text/plain": [
       "Intercept             0.904575\n",
       "C(influencer)[T.Y]    0.274512\n",
       "subs                  0.222041\n",
       "ave_views             0.007964\n",
       "total_videos          0.083001\n",
       "growth_views          0.547457\n",
       "growth_subs           0.381653\n",
       "frequency             0.037372\n",
       "duration              0.487042\n",
       "male                  0.359243\n",
       "dtype: float64"
      ]
     },
     "execution_count": 4,
     "metadata": {},
     "output_type": "execute_result"
    }
   ],
   "source": [
    "# Start with all available predictors\n",
    "model_all = smf.ols('endorse ~ C(influencer) + subs + ave_views + total_videos + growth_views + growth_subs + frequency + duration + male', data=data).fit()\n",
    "model_all.pvalues"
   ]
  },
  {
   "cell_type": "code",
   "execution_count": 5,
   "metadata": {},
   "outputs": [
    {
     "data": {
      "text/plain": [
       "Intercept             0.956965\n",
       "C(influencer)[T.Y]    0.277265\n",
       "subs                  0.215648\n",
       "ave_views             0.005348\n",
       "total_videos          0.060719\n",
       "growth_subs           0.172427\n",
       "frequency             0.021478\n",
       "duration              0.464596\n",
       "male                  0.407422\n",
       "dtype: float64"
      ]
     },
     "execution_count": 5,
     "metadata": {},
     "output_type": "execute_result"
    }
   ],
   "source": [
    "# Remove 'growth_views'\n",
    "model_1 = smf.ols('endorse ~ C(influencer) + subs + ave_views + total_videos + growth_subs + frequency + duration + male', data=data).fit()\n",
    "model_1.pvalues"
   ]
  },
  {
   "cell_type": "code",
   "execution_count": 6,
   "metadata": {},
   "outputs": [
    {
     "data": {
      "text/plain": [
       "Intercept             0.807562\n",
       "C(influencer)[T.Y]    0.269548\n",
       "subs                  0.227658\n",
       "ave_views             0.004284\n",
       "total_videos          0.056233\n",
       "growth_subs           0.180471\n",
       "frequency             0.010613\n",
       "male                  0.447775\n",
       "dtype: float64"
      ]
     },
     "execution_count": 6,
     "metadata": {},
     "output_type": "execute_result"
    }
   ],
   "source": [
    "# Remove 'duration'\n",
    "model_2 = smf.ols('endorse ~ C(influencer) + subs + ave_views + total_videos + growth_subs + frequency + male', data=data).fit()\n",
    "model_2.pvalues"
   ]
  },
  {
   "cell_type": "code",
   "execution_count": 7,
   "metadata": {},
   "outputs": [
    {
     "data": {
      "text/plain": [
       "Intercept             0.184078\n",
       "C(influencer)[T.Y]    0.110276\n",
       "subs                  0.184263\n",
       "ave_views             0.003439\n",
       "total_videos          0.027175\n",
       "growth_subs           0.235776\n",
       "frequency             0.010836\n",
       "dtype: float64"
      ]
     },
     "execution_count": 7,
     "metadata": {},
     "output_type": "execute_result"
    }
   ],
   "source": [
    "# Remove 'male'\n",
    "model_3 = smf.ols('endorse ~ C(influencer) + subs + ave_views + total_videos + growth_subs + frequency', data=data).fit()\n",
    "model_3.pvalues"
   ]
  },
  {
   "cell_type": "code",
   "execution_count": 8,
   "metadata": {},
   "outputs": [
    {
     "data": {
      "text/plain": [
       "Intercept             0.157881\n",
       "C(influencer)[T.Y]    0.126966\n",
       "subs                  0.412634\n",
       "ave_views             0.005138\n",
       "total_videos          0.049637\n",
       "frequency             0.001515\n",
       "dtype: float64"
      ]
     },
     "execution_count": 8,
     "metadata": {},
     "output_type": "execute_result"
    }
   ],
   "source": [
    "# Remove 'growth_subs'\n",
    "model_4 = smf.ols('endorse ~ C(influencer) + subs + ave_views + total_videos + frequency', data=data).fit()\n",
    "model_4.pvalues"
   ]
  },
  {
   "cell_type": "code",
   "execution_count": 9,
   "metadata": {},
   "outputs": [
    {
     "data": {
      "text/plain": [
       "Intercept             0.227546\n",
       "C(influencer)[T.Y]    0.173295\n",
       "ave_views             0.000158\n",
       "total_videos          0.045334\n",
       "frequency             0.001499\n",
       "dtype: float64"
      ]
     },
     "execution_count": 9,
     "metadata": {},
     "output_type": "execute_result"
    }
   ],
   "source": [
    "# Remove 'subs'\n",
    "model_5 = smf.ols('endorse ~ C(influencer) + ave_views + total_videos + frequency', data=data).fit()\n",
    "model_5.pvalues"
   ]
  },
  {
   "cell_type": "code",
   "execution_count": 10,
   "metadata": {
    "scrolled": true
   },
   "outputs": [
    {
     "data": {
      "text/plain": [
       "Intercept       0.623960\n",
       "ave_views       0.000251\n",
       "total_videos    0.115043\n",
       "frequency       0.002814\n",
       "dtype: float64"
      ]
     },
     "execution_count": 10,
     "metadata": {},
     "output_type": "execute_result"
    }
   ],
   "source": [
    "# Remove 'C(influencer)'\n",
    "model_6 = smf.ols('endorse ~ ave_views + total_videos + frequency', data=data).fit()\n",
    "model_6.pvalues"
   ]
  },
  {
   "cell_type": "code",
   "execution_count": 11,
   "metadata": {},
   "outputs": [
    {
     "data": {
      "text/plain": [
       "Intercept    0.584205\n",
       "ave_views    0.000090\n",
       "frequency    0.007367\n",
       "dtype: float64"
      ]
     },
     "execution_count": 11,
     "metadata": {},
     "output_type": "execute_result"
    }
   ],
   "source": [
    "# Remove 'total_videos'\n",
    "model_7 = smf.ols('endorse ~ ave_views + frequency', data=data).fit()\n",
    "model_7.pvalues"
   ]
  },
  {
   "cell_type": "markdown",
   "metadata": {},
   "source": [
    "We get a simplified model with the predictors *ave_views* and *frequency*, with p-values below 0.05."
   ]
  },
  {
   "cell_type": "code",
   "execution_count": 12,
   "metadata": {},
   "outputs": [
    {
     "name": "stdout",
     "output_type": "stream",
     "text": [
      "                            OLS Regression Results                            \n",
      "==============================================================================\n",
      "Dep. Variable:                endorse   R-squared:                       0.635\n",
      "Model:                            OLS   Adj. R-squared:                  0.592\n",
      "Method:                 Least Squares   F-statistic:                     14.79\n",
      "Date:                Thu, 22 Nov 2018   Prob (F-statistic):           0.000190\n",
      "Time:                        15:29:12   Log-Likelihood:                -177.53\n",
      "No. Observations:                  20   AIC:                             361.1\n",
      "Df Residuals:                      17   BIC:                             364.1\n",
      "Df Model:                           2                                         \n",
      "Covariance Type:            nonrobust                                         \n",
      "==============================================================================\n",
      "                 coef    std err          t      P>|t|      [0.025      0.975]\n",
      "------------------------------------------------------------------------------\n",
      "Intercept   -476.1151    853.450     -0.558      0.584   -2276.738    1324.508\n",
      "ave_views      0.0143      0.003      5.096      0.000       0.008       0.020\n",
      "frequency    248.7887     81.790      3.042      0.007      76.226     421.351\n",
      "==============================================================================\n",
      "Omnibus:                       10.522   Durbin-Watson:                   2.013\n",
      "Prob(Omnibus):                  0.005   Jarque-Bera (JB):                7.912\n",
      "Skew:                           1.376   Prob(JB):                       0.0191\n",
      "Kurtosis:                       4.387   Cond. No.                     5.00e+05\n",
      "==============================================================================\n",
      "\n",
      "Warnings:\n",
      "[1] Standard Errors assume that the covariance matrix of the errors is correctly specified.\n",
      "[2] The condition number is large,  5e+05. This might indicate that there are\n",
      "strong multicollinearity or other numerical problems.\n"
     ]
    }
   ],
   "source": [
    "model = smf.ols('endorse ~ ave_views + frequency', data=data).fit()\n",
    "print(model.summary())"
   ]
  },
  {
   "cell_type": "code",
   "execution_count": 13,
   "metadata": {},
   "outputs": [
    {
     "name": "stdout",
     "output_type": "stream",
     "text": [
      "For every increase in average views by 70.088 , endorsement cost increases by 1 .\n",
      "For every increase in monthly video frequency by 1 , endorsement cost increases by 248.789 .\n"
     ]
    }
   ],
   "source": [
    "# Analysis of the coefficients\n",
    "\n",
    "print('For every increase in average views by', round(1/model.params['ave_views'], 3),\n",
    "      ', endorsement cost increases by 1 .')\n",
    "print('For every increase in monthly video frequency by 1', ', endorsement cost increases by',\n",
    "     round(model.params['frequency'], 3), '.')"
   ]
  },
  {
   "cell_type": "markdown",
   "metadata": {},
   "source": [
    "## Model Application\n",
    "Using our linear model, we can now estimate the endorsement costs required in collaborating with various potential YouTube channels."
   ]
  },
  {
   "cell_type": "code",
   "execution_count": 14,
   "metadata": {},
   "outputs": [
    {
     "data": {
      "text/html": [
       "<div>\n",
       "<style scoped>\n",
       "    .dataframe tbody tr th:only-of-type {\n",
       "        vertical-align: middle;\n",
       "    }\n",
       "\n",
       "    .dataframe tbody tr th {\n",
       "        vertical-align: top;\n",
       "    }\n",
       "\n",
       "    .dataframe thead th {\n",
       "        text-align: right;\n",
       "    }\n",
       "</style>\n",
       "<table border=\"1\" class=\"dataframe\">\n",
       "  <thead>\n",
       "    <tr style=\"text-align: right;\">\n",
       "      <th></th>\n",
       "      <th>youtuber</th>\n",
       "      <th>ave_views</th>\n",
       "      <th>frequency</th>\n",
       "    </tr>\n",
       "  </thead>\n",
       "  <tbody>\n",
       "    <tr>\n",
       "      <th>0</th>\n",
       "      <td>skinnyindonesian24</td>\n",
       "      <td>317581</td>\n",
       "      <td>4</td>\n",
       "    </tr>\n",
       "    <tr>\n",
       "      <th>1</th>\n",
       "      <td>Sacha Stevenson</td>\n",
       "      <td>238294</td>\n",
       "      <td>3</td>\n",
       "    </tr>\n",
       "    <tr>\n",
       "      <th>2</th>\n",
       "      <td>Raditya Dika</td>\n",
       "      <td>1176139</td>\n",
       "      <td>8</td>\n",
       "    </tr>\n",
       "    <tr>\n",
       "      <th>3</th>\n",
       "      <td>LASTDAY Production</td>\n",
       "      <td>721902</td>\n",
       "      <td>2</td>\n",
       "    </tr>\n",
       "    <tr>\n",
       "      <th>4</th>\n",
       "      <td>MiawAug</td>\n",
       "      <td>306310</td>\n",
       "      <td>24</td>\n",
       "    </tr>\n",
       "    <tr>\n",
       "      <th>5</th>\n",
       "      <td>Bayu Skak</td>\n",
       "      <td>1241237</td>\n",
       "      <td>1</td>\n",
       "    </tr>\n",
       "    <tr>\n",
       "      <th>6</th>\n",
       "      <td>Kaesang</td>\n",
       "      <td>1202467</td>\n",
       "      <td>1</td>\n",
       "    </tr>\n",
       "    <tr>\n",
       "      <th>7</th>\n",
       "      <td>Gita Savitri Devi</td>\n",
       "      <td>142931</td>\n",
       "      <td>12</td>\n",
       "    </tr>\n",
       "    <tr>\n",
       "      <th>8</th>\n",
       "      <td>Gen Halilintar</td>\n",
       "      <td>1789294</td>\n",
       "      <td>8</td>\n",
       "    </tr>\n",
       "  </tbody>\n",
       "</table>\n",
       "</div>"
      ],
      "text/plain": [
       "             youtuber  ave_views  frequency\n",
       "0  skinnyindonesian24     317581          4\n",
       "1     Sacha Stevenson     238294          3\n",
       "2        Raditya Dika    1176139          8\n",
       "3  LASTDAY Production     721902          2\n",
       "4             MiawAug     306310         24\n",
       "5           Bayu Skak    1241237          1\n",
       "6             Kaesang    1202467          1\n",
       "7   Gita Savitri Devi     142931         12\n",
       "8      Gen Halilintar    1789294          8"
      ]
     },
     "execution_count": 14,
     "metadata": {},
     "output_type": "execute_result"
    }
   ],
   "source": [
    "data_new = pd.read_excel(\"youtuber2.xlsx\")\n",
    "data_new.head(10)"
   ]
  },
  {
   "cell_type": "markdown",
   "metadata": {},
   "source": [
    "*All values are correct as of 18 Nov 2018.*"
   ]
  },
  {
   "cell_type": "code",
   "execution_count": 15,
   "metadata": {},
   "outputs": [
    {
     "data": {
      "text/html": [
       "<div>\n",
       "<style scoped>\n",
       "    .dataframe tbody tr th:only-of-type {\n",
       "        vertical-align: middle;\n",
       "    }\n",
       "\n",
       "    .dataframe tbody tr th {\n",
       "        vertical-align: top;\n",
       "    }\n",
       "\n",
       "    .dataframe thead th {\n",
       "        text-align: right;\n",
       "    }\n",
       "</style>\n",
       "<table border=\"1\" class=\"dataframe\">\n",
       "  <thead>\n",
       "    <tr style=\"text-align: right;\">\n",
       "      <th></th>\n",
       "      <th>youtuber</th>\n",
       "      <th>ave_views</th>\n",
       "      <th>frequency</th>\n",
       "      <th>endorse</th>\n",
       "    </tr>\n",
       "  </thead>\n",
       "  <tbody>\n",
       "    <tr>\n",
       "      <th>0</th>\n",
       "      <td>skinnyindonesian24</td>\n",
       "      <td>317581</td>\n",
       "      <td>4</td>\n",
       "      <td>5526.31</td>\n",
       "    </tr>\n",
       "    <tr>\n",
       "      <th>1</th>\n",
       "      <td>Sacha Stevenson</td>\n",
       "      <td>238294</td>\n",
       "      <td>3</td>\n",
       "      <td>4146.28</td>\n",
       "    </tr>\n",
       "    <tr>\n",
       "      <th>2</th>\n",
       "      <td>Raditya Dika</td>\n",
       "      <td>1176139</td>\n",
       "      <td>8</td>\n",
       "      <td>18771.13</td>\n",
       "    </tr>\n",
       "    <tr>\n",
       "      <th>3</th>\n",
       "      <td>LASTDAY Production</td>\n",
       "      <td>721902</td>\n",
       "      <td>2</td>\n",
       "      <td>10797.47</td>\n",
       "    </tr>\n",
       "    <tr>\n",
       "      <th>4</th>\n",
       "      <td>MiawAug</td>\n",
       "      <td>306310</td>\n",
       "      <td>24</td>\n",
       "      <td>10341.27</td>\n",
       "    </tr>\n",
       "    <tr>\n",
       "      <th>5</th>\n",
       "      <td>Bayu Skak</td>\n",
       "      <td>1241237</td>\n",
       "      <td>1</td>\n",
       "      <td>17958.41</td>\n",
       "    </tr>\n",
       "    <tr>\n",
       "      <th>6</th>\n",
       "      <td>Kaesang</td>\n",
       "      <td>1202467</td>\n",
       "      <td>1</td>\n",
       "      <td>17405.25</td>\n",
       "    </tr>\n",
       "    <tr>\n",
       "      <th>7</th>\n",
       "      <td>Gita Savitri Devi</td>\n",
       "      <td>142931</td>\n",
       "      <td>12</td>\n",
       "      <td>5024.76</td>\n",
       "    </tr>\n",
       "    <tr>\n",
       "      <th>8</th>\n",
       "      <td>Gen Halilintar</td>\n",
       "      <td>1789294</td>\n",
       "      <td>8</td>\n",
       "      <td>27519.45</td>\n",
       "    </tr>\n",
       "  </tbody>\n",
       "</table>\n",
       "</div>"
      ],
      "text/plain": [
       "             youtuber  ave_views  frequency   endorse\n",
       "0  skinnyindonesian24     317581          4   5526.31\n",
       "1     Sacha Stevenson     238294          3   4146.28\n",
       "2        Raditya Dika    1176139          8  18771.13\n",
       "3  LASTDAY Production     721902          2  10797.47\n",
       "4             MiawAug     306310         24  10341.27\n",
       "5           Bayu Skak    1241237          1  17958.41\n",
       "6             Kaesang    1202467          1  17405.25\n",
       "7   Gita Savitri Devi     142931         12   5024.76\n",
       "8      Gen Halilintar    1789294          8  27519.45"
      ]
     },
     "execution_count": 15,
     "metadata": {},
     "output_type": "execute_result"
    }
   ],
   "source": [
    "beta1 = model.params['ave_views']\n",
    "beta2 = model.params['frequency']\n",
    "\n",
    "data_new['endorse'] = round((data_new['ave_views'] * beta1 + data_new['frequency'] * beta2), 2)\n",
    "data_new.head(10)"
   ]
  },
  {
   "cell_type": "markdown",
   "metadata": {},
   "source": [
    "## Checks\n",
    "We check for any limitations of our model."
   ]
  },
  {
   "cell_type": "markdown",
   "metadata": {},
   "source": [
    "### Linearity\n",
    "It was assumed that the dependent variable is linearly related with all the independent variables. We check whether the predictors in our simplified model are linearly related with the dependent variable."
   ]
  },
  {
   "cell_type": "code",
   "execution_count": 16,
   "metadata": {},
   "outputs": [
    {
     "name": "stdout",
     "output_type": "stream",
     "text": [
      "R2 is 0.4364663531267596\n"
     ]
    },
    {
     "data": {
      "image/png": "[encoded data removed]",
      "text/plain": [
       "<Figure size 432x288 with 1 Axes>"
      ]
     },
     "metadata": {},
     "output_type": "display_data"
    }
   ],
   "source": [
    "sns.regplot(data['ave_views'], data['endorse'])\n",
    "R2_1 = np.corrcoef(data['ave_views'], data['endorse'])**2\n",
    "print('R2 is', R2_1[0][1])"
   ]
  },
  {
   "cell_type": "code",
   "execution_count": 17,
   "metadata": {},
   "outputs": [
    {
     "name": "stdout",
     "output_type": "stream",
     "text": [
      "R2 is 0.07755731195379587\n"
     ]
    },
    {
     "data": {
      "image/png": "[encoded data removed]",
      "text/plain": [
       "<Figure size 432x288 with 1 Axes>"
      ]
     },
     "metadata": {},
     "output_type": "display_data"
    }
   ],
   "source": [
    "sns.regplot(data['frequency'], data['endorse'])\n",
    "R2_1 = np.corrcoef(data['frequency'], data['endorse'])**2\n",
    "print('R2 is', R2_1[0][1])"
   ]
  },
  {
   "cell_type": "markdown",
   "metadata": {},
   "source": [
    "Both predictors are not strongly linearly correlated with the dependent variable by themselves."
   ]
  },
  {
   "cell_type": "markdown",
   "metadata": {},
   "source": [
    "### Multicollinearity\n",
    "We check for any correlation between our two dependent variables."
   ]
  },
  {
   "cell_type": "code",
   "execution_count": 18,
   "metadata": {},
   "outputs": [
    {
     "data": {
      "text/plain": [
       "<matplotlib.axes._subplots.AxesSubplot at 0x1d8ee6dc940>"
      ]
     },
     "execution_count": 18,
     "metadata": {},
     "output_type": "execute_result"
    },
    {
     "data": {
      "image/png": "[encoded data removed]",
      "text/plain": [
       "<Figure size 432x288 with 1 Axes>"
      ]
     },
     "metadata": {},
     "output_type": "display_data"
    }
   ],
   "source": [
    "sns.scatterplot(data['ave_views'], data['frequency'])"
   ]
  },
  {
   "cell_type": "code",
   "execution_count": 19,
   "metadata": {},
   "outputs": [
    {
     "name": "stdout",
     "output_type": "stream",
     "text": [
      "R2 of the two dependent variables is 0.05487948737358636\n"
     ]
    }
   ],
   "source": [
    "R2_dependent = np.corrcoef(data['ave_views'], data['frequency'])**2\n",
    "print('R2 of the two dependent variables is', R2_dependent[0][1])"
   ]
  },
  {
   "cell_type": "markdown",
   "metadata": {},
   "source": [
    "The R2 for *ave_views* and *frequency* is low, hence correlation between the two dependent variables is low."
   ]
  },
  {
   "cell_type": "markdown",
   "metadata": {},
   "source": [
    "### Normality\n",
    "The residuals of the regression should follow a normal distribution."
   ]
  },
  {
   "cell_type": "code",
   "execution_count": 20,
   "metadata": {},
   "outputs": [],
   "source": [
    "residual = model.fittedvalues.subtract(data['endorse'])"
   ]
  },
  {
   "cell_type": "code",
   "execution_count": 21,
   "metadata": {},
   "outputs": [
    {
     "data": {
      "image/png": "[encoded data removed]",
      "text/plain": [
       "<Figure size 432x288 with 1 Axes>"
      ]
     },
     "metadata": {},
     "output_type": "display_data"
    }
   ],
   "source": [
    "import scipy.stats as stats\n",
    "\n",
    "stats.probplot(residual, dist='norm', plot=plt)\n",
    "plt.show()"
   ]
  },
  {
   "cell_type": "markdown",
   "metadata": {},
   "source": [
    "As seen from the above plot, the residuals do not yield a distribution that more closely resembles that of a normal distribution."
   ]
  },
  {
   "cell_type": "markdown",
   "metadata": {},
   "source": [
    "### Homoskedascity\n",
    "We plot the scatterplot of residuals against predicted values for the dependent variable."
   ]
  },
  {
   "cell_type": "code",
   "execution_count": 22,
   "metadata": {},
   "outputs": [
    {
     "data": {
      "text/plain": [
       "Text(0,0.5,'residuals')"
      ]
     },
     "execution_count": 22,
     "metadata": {},
     "output_type": "execute_result"
    },
    {
     "data": {
      "image/png": "[encoded data removed]",
      "text/plain": [
       "<Figure size 432x288 with 1 Axes>"
      ]
     },
     "metadata": {},
     "output_type": "display_data"
    }
   ],
   "source": [
    "regplot = sns.regplot(model.fittedvalues, residual)\n",
    "regplot.set_xlabel('predicted values')\n",
    "regplot.set_ylabel('residuals')"
   ]
  },
  {
   "cell_type": "markdown",
   "metadata": {},
   "source": [
    "The values are generally homoskedastic."
   ]
  }
 ],
 "metadata": {
  "kernelspec": {
   "display_name": "Python 3",
   "language": "python",
   "name": "python3"
  },
  "language_info": {
   "codemirror_mode": {
    "name": "ipython",
    "version": 3
   },
   "file_extension": ".py",
   "mimetype": "text/x-python",
   "name": "python",
   "nbconvert_exporter": "python",
   "pygments_lexer": "ipython3",
   "version": "3.6.5"
  }
 },
 "nbformat": 4,
 "nbformat_minor": 2
}
