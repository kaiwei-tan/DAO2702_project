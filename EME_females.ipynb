{
 "cells": [
  {
   "cell_type": "code",
   "execution_count": 1,
   "metadata": {},
   "outputs": [],
   "source": [
    "%matplotlib inline\n",
    "import numpy as np\n",
    "import pandas as pd\n",
    "import statsmodels.formula.api as smf\n",
    "import matplotlib.pyplot as plt\n",
    "import seaborn as sns\n",
    "sns.set()"
   ]
  },
  {
   "cell_type": "code",
   "execution_count": 2,
   "metadata": {},
   "outputs": [
    {
     "data": {
      "text/plain": [
       "'c:\\\\Users\\\\TKW\\\\desktop'"
      ]
     },
     "execution_count": 2,
     "metadata": {},
     "output_type": "execute_result"
    }
   ],
   "source": [
    "import os\n",
    "os.chdir('c:\\\\Users\\\\TKW\\\\desktop')\n",
    "os.getcwd()"
   ]
  },
  {
   "cell_type": "code",
   "execution_count": 3,
   "metadata": {},
   "outputs": [
    {
     "data": {
      "text/html": [
       "<div>\n",
       "<style scoped>\n",
       "    .dataframe tbody tr th:only-of-type {\n",
       "        vertical-align: middle;\n",
       "    }\n",
       "\n",
       "    .dataframe tbody tr th {\n",
       "        vertical-align: top;\n",
       "    }\n",
       "\n",
       "    .dataframe thead th {\n",
       "        text-align: right;\n",
       "    }\n",
       "</style>\n",
       "<table border=\"1\" class=\"dataframe\">\n",
       "  <thead>\n",
       "    <tr style=\"text-align: right;\">\n",
       "      <th></th>\n",
       "      <th>Occupation</th>\n",
       "      <th>NameAge</th>\n",
       "      <th>Status</th>\n",
       "      <th>Interests</th>\n",
       "      <th>age</th>\n",
       "    </tr>\n",
       "  </thead>\n",
       "  <tbody>\n",
       "    <tr>\n",
       "      <th>0</th>\n",
       "      <td>Student</td>\n",
       "      <td>Clara, 21</td>\n",
       "      <td>Now</td>\n",
       "      <td>Dining out,Cooking,Movies,Music,Fishing,Campin...</td>\n",
       "      <td>21</td>\n",
       "    </tr>\n",
       "    <tr>\n",
       "      <th>1</th>\n",
       "      <td>Teacher</td>\n",
       "      <td>Ambrocia, 23</td>\n",
       "      <td>9 minutes ago</td>\n",
       "      <td>Cooking,Movies,Music,Theatres,Karaoke,Walking,...</td>\n",
       "      <td>23</td>\n",
       "    </tr>\n",
       "    <tr>\n",
       "      <th>2</th>\n",
       "      <td>Dentist</td>\n",
       "      <td>Citra, 28</td>\n",
       "      <td>9 hours ago</td>\n",
       "      <td>Movies,Music,Arts,Crafts,Books,Walking,Running...</td>\n",
       "      <td>28</td>\n",
       "    </tr>\n",
       "    <tr>\n",
       "      <th>3</th>\n",
       "      <td>Marketer</td>\n",
       "      <td>Eva, 29</td>\n",
       "      <td>2 days ago</td>\n",
       "      <td>Dining out,Coffee &amp; tea,Cooking,Shopping,Movie...</td>\n",
       "      <td>29</td>\n",
       "    </tr>\n",
       "    <tr>\n",
       "      <th>4</th>\n",
       "      <td>Student</td>\n",
       "      <td>Claire, 18</td>\n",
       "      <td>4 days ago</td>\n",
       "      <td>Korean,Dining out,Coffee &amp; tea,Cooking,Shoppin...</td>\n",
       "      <td>18</td>\n",
       "    </tr>\n",
       "    <tr>\n",
       "      <th>5</th>\n",
       "      <td>Pharmacist</td>\n",
       "      <td>Mestika, 32</td>\n",
       "      <td>4 days ago</td>\n",
       "      <td>Dining out,Cooking,Music,Travel,Anime &amp; manga,...</td>\n",
       "      <td>32</td>\n",
       "    </tr>\n",
       "    <tr>\n",
       "      <th>6</th>\n",
       "      <td>Baker</td>\n",
       "      <td>cynthia, 22</td>\n",
       "      <td>4 days ago</td>\n",
       "      <td>Malay,Dining out,Cooking,Movies,Television,Mus...</td>\n",
       "      <td>22</td>\n",
       "    </tr>\n",
       "    <tr>\n",
       "      <th>7</th>\n",
       "      <td>Student</td>\n",
       "      <td>Valerie, 22</td>\n",
       "      <td>10 days ago</td>\n",
       "      <td>Japanese,Malay,Coffee &amp; tea,Wine,Movies,Televi...</td>\n",
       "      <td>22</td>\n",
       "    </tr>\n",
       "    <tr>\n",
       "      <th>8</th>\n",
       "      <td>Student</td>\n",
       "      <td>Josephine , 18</td>\n",
       "      <td>12 days ago</td>\n",
       "      <td>Mandarin,Dining out,Coffee &amp; tea,Cooking,Movie...</td>\n",
       "      <td>18</td>\n",
       "    </tr>\n",
       "    <tr>\n",
       "      <th>9</th>\n",
       "      <td>Student</td>\n",
       "      <td>Vania, 19</td>\n",
       "      <td>16 days ago</td>\n",
       "      <td>Korean,Mandarin,Dining out,Coffee &amp; tea,Cookin...</td>\n",
       "      <td>19</td>\n",
       "    </tr>\n",
       "  </tbody>\n",
       "</table>\n",
       "</div>"
      ],
      "text/plain": [
       "   Occupation         NameAge         Status  \\\n",
       "0     Student       Clara, 21            Now   \n",
       "1     Teacher    Ambrocia, 23  9 minutes ago   \n",
       "2     Dentist       Citra, 28    9 hours ago   \n",
       "3    Marketer         Eva, 29     2 days ago   \n",
       "4     Student      Claire, 18     4 days ago   \n",
       "5  Pharmacist     Mestika, 32     4 days ago   \n",
       "6       Baker     cynthia, 22     4 days ago   \n",
       "7     Student     Valerie, 22    10 days ago   \n",
       "8     Student  Josephine , 18    12 days ago   \n",
       "9     Student       Vania, 19    16 days ago   \n",
       "\n",
       "                                           Interests  age  \n",
       "0  Dining out,Cooking,Movies,Music,Fishing,Campin...   21  \n",
       "1  Cooking,Movies,Music,Theatres,Karaoke,Walking,...   23  \n",
       "2  Movies,Music,Arts,Crafts,Books,Walking,Running...   28  \n",
       "3  Dining out,Coffee & tea,Cooking,Shopping,Movie...   29  \n",
       "4  Korean,Dining out,Coffee & tea,Cooking,Shoppin...   18  \n",
       "5  Dining out,Cooking,Music,Travel,Anime & manga,...   32  \n",
       "6  Malay,Dining out,Cooking,Movies,Television,Mus...   22  \n",
       "7  Japanese,Malay,Coffee & tea,Wine,Movies,Televi...   22  \n",
       "8  Mandarin,Dining out,Coffee & tea,Cooking,Movie...   18  \n",
       "9  Korean,Mandarin,Dining out,Coffee & tea,Cookin...   19  "
      ]
     },
     "execution_count": 3,
     "metadata": {},
     "output_type": "execute_result"
    }
   ],
   "source": [
    "data = pd.read_excel(\"indo_female.xlsx\")\n",
    "data['age'] = data['NameAge'].apply(lambda x: (str(x)[-2:])).astype(int)\n",
    "data.head(10)"
   ]
  },
  {
   "cell_type": "code",
   "execution_count": 4,
   "metadata": {},
   "outputs": [
    {
     "data": {
      "text/plain": [
       "261"
      ]
     },
     "execution_count": 4,
     "metadata": {},
     "output_type": "execute_result"
    }
   ],
   "source": [
    "len(data) # Sample size"
   ]
  },
  {
   "cell_type": "markdown",
   "metadata": {},
   "source": [
    "## Interests\n",
    "We break down the frequency that each interest shows up on our sample of profiles."
   ]
  },
  {
   "cell_type": "code",
   "execution_count": 5,
   "metadata": {},
   "outputs": [
    {
     "data": {
      "image/png": "[encoded data removed]",
      "text/plain": [
       "<Figure size 432x288 with 1 Axes>"
      ]
     },
     "metadata": {},
     "output_type": "display_data"
    }
   ],
   "source": [
    "# Find the top 10 most common interests\n",
    "\n",
    "def word_count(str):\n",
    "    counts = dict()\n",
    "    words = str.split(',')\n",
    "\n",
    "    for word in words:\n",
    "        if word in counts:\n",
    "            counts[word] += 1\n",
    "        else:\n",
    "            counts[word] = 1\n",
    "\n",
    "    return counts\n",
    "\n",
    "interests = []\n",
    "k = 1 \n",
    "while k < len(data):\n",
    "    interests.append(str(data['Interests'][k]))\n",
    "    k += 1\n",
    "\n",
    "total_interests = str(',').join(interests)\n",
    "interest_count = word_count(total_interests)\n",
    "del(interest_count['nan'])\n",
    "\n",
    "interests_names = []\n",
    "interests_counts = []\n",
    "l = 0\n",
    "for w in sorted(interest_count, key=interest_count.get, reverse=True):\n",
    "    interests_names.append(w)\n",
    "    interests_counts.append(interest_count[w]/len(data))\n",
    "    l += 1\n",
    "    if l == 10:\n",
    "        break\n",
    "\n",
    "interest_plot = sns.barplot(x=interests_names, y=interests_counts, palette='Set1')\n",
    "interest_plot.set_xticklabels(interest_plot.get_xticklabels(), rotation=30, ha=\"center\")\n",
    "interest_plot.set_title('Interests Frequency')\n",
    "interest_plot.set_xlabel('Interest')\n",
    "interest_plot.set_ylabel('Frequency')\n",
    "plt.tight_layout()\n",
    "plt.show()"
   ]
  },
  {
   "cell_type": "markdown",
   "metadata": {},
   "source": [
    "From the data, we can see that the top 3 most common interests are movies, music, and travel."
   ]
  },
  {
   "cell_type": "markdown",
   "metadata": {},
   "source": [
    "## Age\n",
    "We break down the proportion of ages in on our sample of profiles."
   ]
  },
  {
   "cell_type": "code",
   "execution_count": 6,
   "metadata": {},
   "outputs": [
    {
     "data": {
      "image/png": "[encoded data removed]",
      "text/plain": [
       "<Figure size 432x288 with 1 Axes>"
      ]
     },
     "metadata": {},
     "output_type": "display_data"
    }
   ],
   "source": [
    "# Find the top 10 most common ages\n",
    "\n",
    "age_plot = sns.countplot(x='age', data=data, palette='Set1', order=data['age'].value_counts().iloc[:10].index)\n",
    "age_plot.set_title('Age Frequency')\n",
    "age_plot.set_xlabel('Age')\n",
    "age_plot.set_ylabel('No. of profiles')\n",
    "plt.tight_layout()\n",
    "plt.show()"
   ]
  },
  {
   "cell_type": "code",
   "execution_count": 7,
   "metadata": {},
   "outputs": [
    {
     "data": {
      "image/png": "[encoded data removed]",
      "text/plain": [
       "<Figure size 432x288 with 1 Axes>"
      ]
     },
     "metadata": {},
     "output_type": "display_data"
    }
   ],
   "source": [
    "# Find the number of profiles for each age\n",
    "\n",
    "age_plot_alt = sns.countplot(x='age', data=data, palette='Set1')\n",
    "age_plot_alt.set_title('Age Frequency')\n",
    "age_plot_alt.set_xlabel('Age')\n",
    "age_plot_alt.set_ylabel('No. of profiles')\n",
    "plt.tight_layout()\n",
    "plt.show()"
   ]
  },
  {
   "cell_type": "code",
   "execution_count": 8,
   "metadata": {},
   "outputs": [
    {
     "data": {
      "image/png": "[encoded data removed]",
      "text/plain": [
       "<Figure size 432x288 with 1 Axes>"
      ]
     },
     "metadata": {},
     "output_type": "display_data"
    }
   ],
   "source": [
    "# Find the distribution of each age range\n",
    "\n",
    "bins = [10,15,20,25,30,35,40,45,50,55,60,65,70,75,80]\n",
    "age_hist = sns.distplot(data['age'], bins=bins)\n",
    "age_hist.set_title('Age Frequency')\n",
    "age_hist.set_xlabel('Age Range')\n",
    "age_hist.set_ylabel('Frequency')\n",
    "plt.tight_layout()\n",
    "plt.show()"
   ]
  },
  {
   "cell_type": "markdown",
   "metadata": {},
   "source": [
    "From the data, we can see the biggest proportion of users is in their 20s, with the most during university schooling ages of 19 to to 22."
   ]
  },
  {
   "cell_type": "markdown",
   "metadata": {},
   "source": [
    "## Occupations\n",
    "We break down the number of times that each occupation shows up on our sample of profiles."
   ]
  },
  {
   "cell_type": "code",
   "execution_count": 9,
   "metadata": {},
   "outputs": [
    {
     "data": {
      "image/png": "[encoded data removed]",
      "text/plain": [
       "<Figure size 432x288 with 1 Axes>"
      ]
     },
     "metadata": {},
     "output_type": "display_data"
    }
   ],
   "source": [
    "#Find the top 5 most common occupations\n",
    "\n",
    "job_plot = sns.countplot(x='Occupation', data=data, palette='Set1', order=data['Occupation'].value_counts().iloc[:5].index)\n",
    "job_plot.set_title('Occupation Frequency')\n",
    "job_plot.set_xlabel('Occupation')\n",
    "job_plot.set_ylabel('No. of profiles')\n",
    "plt.tight_layout()\n",
    "plt.show()"
   ]
  },
  {
   "cell_type": "markdown",
   "metadata": {},
   "source": [
    "From the data, we can see that a large proportion of users are students. This corroborates our previous age data."
   ]
  }
 ],
 "metadata": {
  "kernelspec": {
   "display_name": "Python 3",
   "language": "python",
   "name": "python3"
  },
  "language_info": {
   "codemirror_mode": {
    "name": "ipython",
    "version": 3
   },
   "file_extension": ".py",
   "mimetype": "text/x-python",
   "name": "python",
   "nbconvert_exporter": "python",
   "pygments_lexer": "ipython3",
   "version": "3.6.5"
  }
 },
 "nbformat": 4,
 "nbformat_minor": 2
}
