{
 "cells": [
  {
   "cell_type": "code",
   "execution_count": 1,
   "metadata": {},
   "outputs": [],
   "source": [
    "%matplotlib inline\n",
    "import numpy as np\n",
    "import pandas as pd\n",
    "import statsmodels.formula.api as smf\n",
    "import matplotlib.pyplot as plt\n",
    "import seaborn as sns\n",
    "sns.set()"
   ]
  },
  {
   "cell_type": "code",
   "execution_count": 2,
   "metadata": {},
   "outputs": [
    {
     "data": {
      "text/plain": [
       "'c:\\\\Users\\\\TKW\\\\desktop'"
      ]
     },
     "execution_count": 2,
     "metadata": {},
     "output_type": "execute_result"
    }
   ],
   "source": [
    "import os\n",
    "os.chdir('c:\\\\Users\\\\TKW\\\\desktop')\n",
    "os.getcwd()"
   ]
  },
  {
   "cell_type": "code",
   "execution_count": 3,
   "metadata": {},
   "outputs": [
    {
     "data": {
      "text/html": [
       "<div>\n",
       "<style scoped>\n",
       "    .dataframe tbody tr th:only-of-type {\n",
       "        vertical-align: middle;\n",
       "    }\n",
       "\n",
       "    .dataframe tbody tr th {\n",
       "        vertical-align: top;\n",
       "    }\n",
       "\n",
       "    .dataframe thead th {\n",
       "        text-align: right;\n",
       "    }\n",
       "</style>\n",
       "<table border=\"1\" class=\"dataframe\">\n",
       "  <thead>\n",
       "    <tr style=\"text-align: right;\">\n",
       "      <th></th>\n",
       "      <th>Occupation</th>\n",
       "      <th>Status</th>\n",
       "      <th>Interests</th>\n",
       "    </tr>\n",
       "  </thead>\n",
       "  <tbody>\n",
       "    <tr>\n",
       "      <th>0</th>\n",
       "      <td>Chef</td>\n",
       "      <td>1 year ago</td>\n",
       "      <td>Dining out,Coffee &amp; tea,Cooking,Music,Travel,A...</td>\n",
       "    </tr>\n",
       "    <tr>\n",
       "      <th>1</th>\n",
       "      <td>Consultant</td>\n",
       "      <td>1 year ago</td>\n",
       "      <td>Dining out,Coffee &amp; tea,Movies,Music,Games,Arts</td>\n",
       "    </tr>\n",
       "    <tr>\n",
       "      <th>2</th>\n",
       "      <td>Student</td>\n",
       "      <td>1 year ago</td>\n",
       "      <td>Mandarin,Dining out,Coffee &amp; tea,Wine,Movies,T...</td>\n",
       "    </tr>\n",
       "    <tr>\n",
       "      <th>3</th>\n",
       "      <td>Consultant</td>\n",
       "      <td>1 year ago</td>\n",
       "      <td>Dining out,Movies,Music,Games,Travel,Anime &amp; m...</td>\n",
       "    </tr>\n",
       "    <tr>\n",
       "      <th>4</th>\n",
       "      <td>Student</td>\n",
       "      <td>1 year ago</td>\n",
       "      <td>Dining out,Coffee &amp; tea,Wine,Cooking,Music,Gam...</td>\n",
       "    </tr>\n",
       "    <tr>\n",
       "      <th>5</th>\n",
       "      <td>Distributor</td>\n",
       "      <td>1 year ago</td>\n",
       "      <td>Mandarin</td>\n",
       "    </tr>\n",
       "    <tr>\n",
       "      <th>6</th>\n",
       "      <td>Entrepreneur</td>\n",
       "      <td>1 year ago</td>\n",
       "      <td>Japanese,Mandarin,Coffee &amp; tea,Cooking,Movies,...</td>\n",
       "    </tr>\n",
       "    <tr>\n",
       "      <th>7</th>\n",
       "      <td>Accounting</td>\n",
       "      <td>1 year ago</td>\n",
       "      <td>Mandarin,Dining out,Movies,Music,Games,Compute...</td>\n",
       "    </tr>\n",
       "    <tr>\n",
       "      <th>8</th>\n",
       "      <td>Entrepreneur</td>\n",
       "      <td>1 year ago</td>\n",
       "      <td>Mandarin,Movies,Music,Games,Travel,Arts,Photog...</td>\n",
       "    </tr>\n",
       "    <tr>\n",
       "      <th>9</th>\n",
       "      <td>Architect</td>\n",
       "      <td>1 year ago</td>\n",
       "      <td>Korean,Movies,Music,Games,Photography</td>\n",
       "    </tr>\n",
       "  </tbody>\n",
       "</table>\n",
       "</div>"
      ],
      "text/plain": [
       "     Occupation      Status                                          Interests\n",
       "0          Chef  1 year ago  Dining out,Coffee & tea,Cooking,Music,Travel,A...\n",
       "1    Consultant  1 year ago    Dining out,Coffee & tea,Movies,Music,Games,Arts\n",
       "2       Student  1 year ago  Mandarin,Dining out,Coffee & tea,Wine,Movies,T...\n",
       "3   Consultant   1 year ago  Dining out,Movies,Music,Games,Travel,Anime & m...\n",
       "4       Student  1 year ago  Dining out,Coffee & tea,Wine,Cooking,Music,Gam...\n",
       "5   Distributor  1 year ago                                           Mandarin\n",
       "6  Entrepreneur  1 year ago  Japanese,Mandarin,Coffee & tea,Cooking,Movies,...\n",
       "7   Accounting   1 year ago  Mandarin,Dining out,Movies,Music,Games,Compute...\n",
       "8  Entrepreneur  1 year ago  Mandarin,Movies,Music,Games,Travel,Arts,Photog...\n",
       "9     Architect  1 year ago              Korean,Movies,Music,Games,Photography"
      ]
     },
     "execution_count": 3,
     "metadata": {},
     "output_type": "execute_result"
    }
   ],
   "source": [
    "data = pd.read_excel(\"indo_male.xlsx\")\n",
    "data.head(10)"
   ]
  },
  {
   "cell_type": "code",
   "execution_count": 4,
   "metadata": {},
   "outputs": [
    {
     "data": {
      "text/plain": [
       "394"
      ]
     },
     "execution_count": 4,
     "metadata": {},
     "output_type": "execute_result"
    }
   ],
   "source": [
    "len(data) # Sample size"
   ]
  },
  {
   "cell_type": "markdown",
   "metadata": {},
   "source": [
    "## Interests\n",
    "We break down the frequency that each interest shows up on our sample of profiles."
   ]
  },
  {
   "cell_type": "code",
   "execution_count": 5,
   "metadata": {},
   "outputs": [
    {
     "data": {
      "image/png": "[encoded data removed]",
      "text/plain": [
       "<Figure size 432x288 with 1 Axes>"
      ]
     },
     "metadata": {},
     "output_type": "display_data"
    }
   ],
   "source": [
    "# Find the top 10 most common interests\n",
    "\n",
    "def word_count(str):\n",
    "    counts = dict()\n",
    "    words = str.split(',')\n",
    "\n",
    "    for word in words:\n",
    "        if word in counts:\n",
    "            counts[word] += 1\n",
    "        else:\n",
    "            counts[word] = 1\n",
    "\n",
    "    return counts\n",
    "\n",
    "interests = []\n",
    "k = 1 \n",
    "while k < len(data):\n",
    "    interests.append(str(data['Interests'][k]))\n",
    "    k += 1\n",
    "\n",
    "total_interests = str(',').join(interests)\n",
    "interest_count = word_count(total_interests)\n",
    "del(interest_count['nan'])\n",
    "\n",
    "interests_names = []\n",
    "interests_counts = []\n",
    "l = 0\n",
    "for w in sorted(interest_count, key=interest_count.get, reverse=True):\n",
    "    interests_names.append(w)\n",
    "    interests_counts.append(interest_count[w]/len(data))\n",
    "    l += 1\n",
    "    if l == 10:\n",
    "        break\n",
    "\n",
    "interest_plot = sns.barplot(x=interests_names, y=interests_counts, palette='Set1')\n",
    "interest_plot.set_xticklabels(interest_plot.get_xticklabels(), rotation=30, ha=\"center\")\n",
    "interest_plot.set_title('Interests Frequency')\n",
    "interest_plot.set_xlabel('Interest')\n",
    "interest_plot.set_ylabel('Frequency')\n",
    "plt.tight_layout()\n",
    "plt.show()"
   ]
  },
  {
   "cell_type": "markdown",
   "metadata": {},
   "source": [
    "From the data, we can see that the top 3 most common interests are movies, music, and travel."
   ]
  },
  {
   "cell_type": "markdown",
   "metadata": {},
   "source": [
    "## Occupations\n",
    "We break down the number of times that each occupation shows up on our sample of profiles."
   ]
  },
  {
   "cell_type": "code",
   "execution_count": 6,
   "metadata": {},
   "outputs": [
    {
     "data": {
      "image/png": "[encoded data removed]",
      "text/plain": [
       "<Figure size 432x288 with 1 Axes>"
      ]
     },
     "metadata": {},
     "output_type": "display_data"
    }
   ],
   "source": [
    "#Find the top 5 most common occupations\n",
    "\n",
    "job_plot = sns.countplot(x='Occupation', data=data, palette='Set1', order=data['Occupation'].value_counts().iloc[:5].index)\n",
    "job_plot.set_title('Occupation Frequency')\n",
    "job_plot.set_xlabel('Occupation')\n",
    "job_plot.set_ylabel('No. of profiles')\n",
    "plt.tight_layout()\n",
    "plt.show()"
   ]
  },
  {
   "cell_type": "markdown",
   "metadata": {},
   "source": [
    "From the data, we can see that a large proportion of users declare themselves as students and entrepreneurs."
   ]
  }
 ],
 "metadata": {
  "kernelspec": {
   "display_name": "Python 3",
   "language": "python",
   "name": "python3"
  },
  "language_info": {
   "codemirror_mode": {
    "name": "ipython",
    "version": 3
   },
   "file_extension": ".py",
   "mimetype": "text/x-python",
   "name": "python",
   "nbconvert_exporter": "python",
   "pygments_lexer": "ipython3",
   "version": "3.6.5"
  }
 },
 "nbformat": 4,
 "nbformat_minor": 2
}
